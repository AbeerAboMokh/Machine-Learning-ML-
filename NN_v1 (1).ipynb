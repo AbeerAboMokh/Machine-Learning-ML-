{
  "cells": [
    {
      "cell_type": "code",
      "execution_count": null,
      "metadata": {
        "id": "6qt7FEDODqBW",
        "colab": {
          "base_uri": "https://localhost:8080/"
        },
        "outputId": "716f1d9d-9a0b-4a97-8ebf-05acc3041091"
      },
      "outputs": [
        {
          "output_type": "stream",
          "name": "stdout",
          "text": [
            "Mounted at /content/drive\n"
          ]
        }
      ],
      "source": [
        "import pandas as pd\n",
        "import seaborn as sns\n",
        "import matplotlib.pyplot as plt\n",
        "import numpy as np\n",
        "import math\n",
        "import statsmodels.api as sm\n",
        "from random import*\n",
        "from google.colab import drive\n",
        "\n",
        "from scipy.stats import multivariate_normal\n",
        "%matplotlib inline\n",
        "from sklearn.metrics import accuracy_score, confusion_matrix, f1_score, recall_score\n",
        "\n",
        "# Step 2: Mount Google Drive\n",
        "drive.mount('/content/drive')\n",
        "\n",
        "# Step 4: Read the CSV file into a DataFrame\n",
        "train_data = pd.read_csv(\"/content/drive/Shareddrives/ML/חלק ב/AirlineSatisfaction Dataset/Xy_train.csv\")\n"
      ]
    },
    {
      "cell_type": "markdown",
      "metadata": {
        "id": "_jtEa0IFMgVi"
      },
      "source": [
        "#Pre-Processing"
      ]
    },
    {
      "cell_type": "markdown",
      "source": [
        "from tree"
      ],
      "metadata": {
        "id": "SUosXkvNAqr_"
      }
    },
    {
      "cell_type": "code",
      "source": [
        "from sklearn.preprocessing import LabelEncoder\n",
        "# Remove unwanted class\n",
        "train_data[\"Class\"][train_data[\"Class\"] == \"IT IS SO BORING WORKING IN AN AIRPORT'S DESK OH MY GODDDDD\"] = None\n",
        "train_data[\"Class\"][train_data[\"Class\"] == 'Unknown'] = None\n",
        "\n",
        "#Retriving new values insted of Nones from the coulumn's distribution.\n",
        "for column in train_data[:-1].columns:train_data[column] = train_data[column].fillna(np.random.choice(train_data[column][~train_data[column].isna()]))\n",
        "\n",
        "# Encode categorical variables\n",
        "categorical_columns = train_data.select_dtypes(include=['object', 'category']).columns\n",
        "label_encoders = {}\n",
        "cat = []\n",
        "for column in train_data.columns:\n",
        "  if len(train_data[column].unique()) <=30 and column != 'satisfaction':\n",
        "    cat.append(column)\n",
        "train_data = pd.get_dummies(train_data, columns=cat)\n",
        "\n",
        "\n",
        "train_data['satisfaction'] = train_data['satisfaction'].apply(lambda x: x == 'satisfied')"
      ],
      "metadata": {
        "id": "zyBfAnk4BCFU",
        "colab": {
          "base_uri": "https://localhost:8080/"
        },
        "outputId": "8fa4c6e4-1903-4dd4-8245-1e06676bcbc4"
      },
      "execution_count": null,
      "outputs": [
        {
          "output_type": "stream",
          "name": "stderr",
          "text": [
            "<ipython-input-3-52803c33c928>:3: SettingWithCopyWarning: \n",
            "A value is trying to be set on a copy of a slice from a DataFrame\n",
            "\n",
            "See the caveats in the documentation: https://pandas.pydata.org/pandas-docs/stable/user_guide/indexing.html#returning-a-view-versus-a-copy\n",
            "  train_data[\"Class\"][train_data[\"Class\"] == \"IT IS SO BORING WORKING IN AN AIRPORT'S DESK OH MY GODDDDD\"] = None\n",
            "<ipython-input-3-52803c33c928>:4: SettingWithCopyWarning: \n",
            "A value is trying to be set on a copy of a slice from a DataFrame\n",
            "\n",
            "See the caveats in the documentation: https://pandas.pydata.org/pandas-docs/stable/user_guide/indexing.html#returning-a-view-versus-a-copy\n",
            "  train_data[\"Class\"][train_data[\"Class\"] == 'Unknown'] = None\n"
          ]
        }
      ]
    },
    {
      "cell_type": "code",
      "source": [
        "y_train = train_data['satisfaction']\n",
        "X_train = train_data.drop(columns = ['satisfaction'])"
      ],
      "metadata": {
        "id": "0vC7A2pYDjjR"
      },
      "execution_count": null,
      "outputs": []
    },
    {
      "cell_type": "code",
      "source": [
        "X_train.shape"
      ],
      "metadata": {
        "id": "e8fr_EXfei-X",
        "colab": {
          "base_uri": "https://localhost:8080/"
        },
        "outputId": "2595b012-b209-47d6-d5f5-782eaac9fd26"
      },
      "execution_count": null,
      "outputs": [
        {
          "output_type": "execute_result",
          "data": {
            "text/plain": [
              "(9000, 83)"
            ]
          },
          "metadata": {},
          "execution_count": 5
        }
      ]
    },
    {
      "cell_type": "code",
      "source": [
        "train_data.shape"
      ],
      "metadata": {
        "id": "oEk5yhbXeVHH",
        "colab": {
          "base_uri": "https://localhost:8080/"
        },
        "outputId": "0f69ff95-9a1d-423d-a9bf-03bdf7c80403"
      },
      "execution_count": null,
      "outputs": [
        {
          "output_type": "execute_result",
          "data": {
            "text/plain": [
              "(9000, 84)"
            ]
          },
          "metadata": {},
          "execution_count": 6
        }
      ]
    },
    {
      "cell_type": "markdown",
      "source": [
        "#DataPrep"
      ],
      "metadata": {
        "id": "JxlluxtIG9QG"
      }
    },
    {
      "cell_type": "markdown",
      "source": [
        "**DONT RUN!**"
      ],
      "metadata": {
        "id": "mdEhIzlRG0mP"
      }
    },
    {
      "cell_type": "code",
      "source": [
        "#Data Prep - Dealing with Nulls\n",
        "# filling Nulls as described in\n",
        "\n",
        "\n",
        "train_data['Leg room service'] = train_data['Leg room service'].fillna(train_data['Leg room service'].mode()[0])\n",
        "\n",
        "train_data['Arrival Delay in Minutes'] = train_data['Arrival Delay in Minutes'].fillna(train_data['Departure Delay in Minutes'] * 0.96)"
      ],
      "metadata": {
        "id": "xtRN482_Xzve",
        "colab": {
          "base_uri": "https://localhost:8080/",
          "height": 478
        },
        "outputId": "23482c72-ac78-45d7-a88a-42e61b1cc7e5"
      },
      "execution_count": null,
      "outputs": [
        {
          "output_type": "error",
          "ename": "KeyError",
          "evalue": "'Leg room service'",
          "traceback": [
            "\u001b[0;31m---------------------------------------------------------------------------\u001b[0m",
            "\u001b[0;31mKeyError\u001b[0m                                  Traceback (most recent call last)",
            "\u001b[0;32m/usr/local/lib/python3.10/dist-packages/pandas/core/indexes/base.py\u001b[0m in \u001b[0;36mget_loc\u001b[0;34m(self, key)\u001b[0m\n\u001b[1;32m   3652\u001b[0m         \u001b[0;32mtry\u001b[0m\u001b[0;34m:\u001b[0m\u001b[0;34m\u001b[0m\u001b[0;34m\u001b[0m\u001b[0m\n\u001b[0;32m-> 3653\u001b[0;31m             \u001b[0;32mreturn\u001b[0m \u001b[0mself\u001b[0m\u001b[0;34m.\u001b[0m\u001b[0m_engine\u001b[0m\u001b[0;34m.\u001b[0m\u001b[0mget_loc\u001b[0m\u001b[0;34m(\u001b[0m\u001b[0mcasted_key\u001b[0m\u001b[0;34m)\u001b[0m\u001b[0;34m\u001b[0m\u001b[0;34m\u001b[0m\u001b[0m\n\u001b[0m\u001b[1;32m   3654\u001b[0m         \u001b[0;32mexcept\u001b[0m \u001b[0mKeyError\u001b[0m \u001b[0;32mas\u001b[0m \u001b[0merr\u001b[0m\u001b[0;34m:\u001b[0m\u001b[0;34m\u001b[0m\u001b[0;34m\u001b[0m\u001b[0m\n",
            "\u001b[0;32m/usr/local/lib/python3.10/dist-packages/pandas/_libs/index.pyx\u001b[0m in \u001b[0;36mpandas._libs.index.IndexEngine.get_loc\u001b[0;34m()\u001b[0m\n",
            "\u001b[0;32m/usr/local/lib/python3.10/dist-packages/pandas/_libs/index.pyx\u001b[0m in \u001b[0;36mpandas._libs.index.IndexEngine.get_loc\u001b[0;34m()\u001b[0m\n",
            "\u001b[0;32mpandas/_libs/hashtable_class_helper.pxi\u001b[0m in \u001b[0;36mpandas._libs.hashtable.PyObjectHashTable.get_item\u001b[0;34m()\u001b[0m\n",
            "\u001b[0;32mpandas/_libs/hashtable_class_helper.pxi\u001b[0m in \u001b[0;36mpandas._libs.hashtable.PyObjectHashTable.get_item\u001b[0;34m()\u001b[0m\n",
            "\u001b[0;31mKeyError\u001b[0m: 'Leg room service'",
            "\nThe above exception was the direct cause of the following exception:\n",
            "\u001b[0;31mKeyError\u001b[0m                                  Traceback (most recent call last)",
            "\u001b[0;32m<ipython-input-8-49a2a7ec2b29>\u001b[0m in \u001b[0;36m<cell line: 5>\u001b[0;34m()\u001b[0m\n\u001b[1;32m      3\u001b[0m \u001b[0;34m\u001b[0m\u001b[0m\n\u001b[1;32m      4\u001b[0m \u001b[0;34m\u001b[0m\u001b[0m\n\u001b[0;32m----> 5\u001b[0;31m \u001b[0mtrain_data\u001b[0m\u001b[0;34m[\u001b[0m\u001b[0;34m'Leg room service'\u001b[0m\u001b[0;34m]\u001b[0m \u001b[0;34m=\u001b[0m \u001b[0mtrain_data\u001b[0m\u001b[0;34m[\u001b[0m\u001b[0;34m'Leg room service'\u001b[0m\u001b[0;34m]\u001b[0m\u001b[0;34m.\u001b[0m\u001b[0mfillna\u001b[0m\u001b[0;34m(\u001b[0m\u001b[0mtrain_data\u001b[0m\u001b[0;34m[\u001b[0m\u001b[0;34m'Leg room service'\u001b[0m\u001b[0;34m]\u001b[0m\u001b[0;34m.\u001b[0m\u001b[0mmode\u001b[0m\u001b[0;34m(\u001b[0m\u001b[0;34m)\u001b[0m\u001b[0;34m[\u001b[0m\u001b[0;36m0\u001b[0m\u001b[0;34m]\u001b[0m\u001b[0;34m)\u001b[0m\u001b[0;34m\u001b[0m\u001b[0;34m\u001b[0m\u001b[0m\n\u001b[0m\u001b[1;32m      6\u001b[0m \u001b[0;34m\u001b[0m\u001b[0m\n\u001b[1;32m      7\u001b[0m \u001b[0mtrain_data\u001b[0m\u001b[0;34m[\u001b[0m\u001b[0;34m'Arrival Delay in Minutes'\u001b[0m\u001b[0;34m]\u001b[0m \u001b[0;34m=\u001b[0m \u001b[0mtrain_data\u001b[0m\u001b[0;34m[\u001b[0m\u001b[0;34m'Arrival Delay in Minutes'\u001b[0m\u001b[0;34m]\u001b[0m\u001b[0;34m.\u001b[0m\u001b[0mfillna\u001b[0m\u001b[0;34m(\u001b[0m\u001b[0mtrain_data\u001b[0m\u001b[0;34m[\u001b[0m\u001b[0;34m'Departure Delay in Minutes'\u001b[0m\u001b[0;34m]\u001b[0m \u001b[0;34m*\u001b[0m \u001b[0;36m0.96\u001b[0m\u001b[0;34m)\u001b[0m\u001b[0;34m\u001b[0m\u001b[0;34m\u001b[0m\u001b[0m\n",
            "\u001b[0;32m/usr/local/lib/python3.10/dist-packages/pandas/core/frame.py\u001b[0m in \u001b[0;36m__getitem__\u001b[0;34m(self, key)\u001b[0m\n\u001b[1;32m   3759\u001b[0m             \u001b[0;32mif\u001b[0m \u001b[0mself\u001b[0m\u001b[0;34m.\u001b[0m\u001b[0mcolumns\u001b[0m\u001b[0;34m.\u001b[0m\u001b[0mnlevels\u001b[0m \u001b[0;34m>\u001b[0m \u001b[0;36m1\u001b[0m\u001b[0;34m:\u001b[0m\u001b[0;34m\u001b[0m\u001b[0;34m\u001b[0m\u001b[0m\n\u001b[1;32m   3760\u001b[0m                 \u001b[0;32mreturn\u001b[0m \u001b[0mself\u001b[0m\u001b[0;34m.\u001b[0m\u001b[0m_getitem_multilevel\u001b[0m\u001b[0;34m(\u001b[0m\u001b[0mkey\u001b[0m\u001b[0;34m)\u001b[0m\u001b[0;34m\u001b[0m\u001b[0;34m\u001b[0m\u001b[0m\n\u001b[0;32m-> 3761\u001b[0;31m             \u001b[0mindexer\u001b[0m \u001b[0;34m=\u001b[0m \u001b[0mself\u001b[0m\u001b[0;34m.\u001b[0m\u001b[0mcolumns\u001b[0m\u001b[0;34m.\u001b[0m\u001b[0mget_loc\u001b[0m\u001b[0;34m(\u001b[0m\u001b[0mkey\u001b[0m\u001b[0;34m)\u001b[0m\u001b[0;34m\u001b[0m\u001b[0;34m\u001b[0m\u001b[0m\n\u001b[0m\u001b[1;32m   3762\u001b[0m             \u001b[0;32mif\u001b[0m \u001b[0mis_integer\u001b[0m\u001b[0;34m(\u001b[0m\u001b[0mindexer\u001b[0m\u001b[0;34m)\u001b[0m\u001b[0;34m:\u001b[0m\u001b[0;34m\u001b[0m\u001b[0;34m\u001b[0m\u001b[0m\n\u001b[1;32m   3763\u001b[0m                 \u001b[0mindexer\u001b[0m \u001b[0;34m=\u001b[0m \u001b[0;34m[\u001b[0m\u001b[0mindexer\u001b[0m\u001b[0;34m]\u001b[0m\u001b[0;34m\u001b[0m\u001b[0;34m\u001b[0m\u001b[0m\n",
            "\u001b[0;32m/usr/local/lib/python3.10/dist-packages/pandas/core/indexes/base.py\u001b[0m in \u001b[0;36mget_loc\u001b[0;34m(self, key)\u001b[0m\n\u001b[1;32m   3653\u001b[0m             \u001b[0;32mreturn\u001b[0m \u001b[0mself\u001b[0m\u001b[0;34m.\u001b[0m\u001b[0m_engine\u001b[0m\u001b[0;34m.\u001b[0m\u001b[0mget_loc\u001b[0m\u001b[0;34m(\u001b[0m\u001b[0mcasted_key\u001b[0m\u001b[0;34m)\u001b[0m\u001b[0;34m\u001b[0m\u001b[0;34m\u001b[0m\u001b[0m\n\u001b[1;32m   3654\u001b[0m         \u001b[0;32mexcept\u001b[0m \u001b[0mKeyError\u001b[0m \u001b[0;32mas\u001b[0m \u001b[0merr\u001b[0m\u001b[0;34m:\u001b[0m\u001b[0;34m\u001b[0m\u001b[0;34m\u001b[0m\u001b[0m\n\u001b[0;32m-> 3655\u001b[0;31m             \u001b[0;32mraise\u001b[0m \u001b[0mKeyError\u001b[0m\u001b[0;34m(\u001b[0m\u001b[0mkey\u001b[0m\u001b[0;34m)\u001b[0m \u001b[0;32mfrom\u001b[0m \u001b[0merr\u001b[0m\u001b[0;34m\u001b[0m\u001b[0;34m\u001b[0m\u001b[0m\n\u001b[0m\u001b[1;32m   3656\u001b[0m         \u001b[0;32mexcept\u001b[0m \u001b[0mTypeError\u001b[0m\u001b[0;34m:\u001b[0m\u001b[0;34m\u001b[0m\u001b[0;34m\u001b[0m\u001b[0m\n\u001b[1;32m   3657\u001b[0m             \u001b[0;31m# If we have a listlike key, _check_indexing_error will raise\u001b[0m\u001b[0;34m\u001b[0m\u001b[0;34m\u001b[0m\u001b[0m\n",
            "\u001b[0;31mKeyError\u001b[0m: 'Leg room service'"
          ]
        }
      ]
    },
    {
      "cell_type": "code",
      "source": [
        "# Remove rows where any of the specified columns have null values\n",
        "train_data = train_data.dropna(subset=['Gender', 'Customer Type', 'Age', 'Type of Travel', 'Class',\n",
        "       'Flight Distance', 'Plane colors', 'Inflight wifi service',\n",
        "       'Departure/Arrival time convenient', 'Ease of Online booking',\n",
        "       'Gate location', 'Food and drink', 'Seat comfort', 'On-board service',\n",
        "       'Baggage handling', 'Checkin service',\n",
        "       'Inflight service', 'Cleanliness', 'Departure Delay in Minutes',\n",
        "       'satisfaction'])"
      ],
      "metadata": {
        "id": "DB2QyQdfYeJr"
      },
      "execution_count": null,
      "outputs": []
    },
    {
      "cell_type": "code",
      "source": [
        "#removing Outliers From Age Column\n",
        "train_data['Age'] = train_data['Age'][train_data['Age']< 120]"
      ],
      "metadata": {
        "id": "_ozftoq7Yj-H"
      },
      "execution_count": null,
      "outputs": []
    },
    {
      "cell_type": "code",
      "execution_count": null,
      "metadata": {
        "id": "34XcDgeuvT5J"
      },
      "outputs": [],
      "source": [
        "#Part3 - טיפול עם המשתנה class כמו שהוזכר בדוח\n",
        "\n",
        "# Get the indices of the 'Unknown' category\n",
        "indices_Unknown = train_data[train_data['Class'] == 'Unknown'].index\n",
        "\n",
        "# Calculate the size of each third\n",
        "n = len(indices_Unknown)\n",
        "one_third_size = n // 3\n",
        "\n",
        "# Ensure proper handling if the number of 'Unknown' is not perfectly divisible by 3\n",
        "additional = n % 3\n",
        "\n",
        "# Split and assign the new categories\n",
        "train_data.loc[indices_Unknown[:one_third_size], 'Class'] = 'Eco'\n",
        "train_data.loc[indices_Unknown[one_third_size:2*one_third_size], 'Class'] = 'Business'\n",
        "train_data.loc[indices_Unknown[2*one_third_size:], 'Class'] = 'Eco Plus'\n",
        "\n",
        "# If there are additional 'Unknown' entries due to non-divisibility, distribute them evenly\n",
        "if additional:\n",
        "    if additional == 1:\n",
        "        train_data.loc[indices_Unknown[2*one_third_size], 'Class'] = 'Eco'\n",
        "    elif additional == 2:\n",
        "        train_data.loc[indices_Unknown[2*one_third_size], 'Class'] = 'Eco'\n",
        "        train_data.loc[indices_Unknown[2*one_third_size + 1], 'Class'] = 'Business'\n",
        "\n",
        "\n",
        "data = train_data\n",
        "# Map 'satisfaction' to binary values\n",
        "data['satisfaction'] = data['satisfaction'].map({'satisfied': 1, 'neutral or dissatisfied': 0})\n",
        "\n",
        "bins = range(0, int(data['Age'].max()) + 10 , 10)\n",
        "data['Age'] = pd.cut(data['Age'], bins)\n",
        "\n",
        "data['Type of Travel'] = data['Type of Travel']\n",
        "\n",
        "indices_to_remove = data[data[\"Class\"] == \"IT IS SO BORING WORKING IN AN AIRPORT'S DESK OH MY GODDDDD\"].index\n",
        "data = data.drop(indices_to_remove) # Drop the rows by index\n",
        "\n",
        "#bins = range(0, int(data['Flight Distance'].max()) + 500 , 500) # dont need to split to bins, as recommended by the TA comments\n",
        "#data['Flight Distance'] = pd.cut(data['Flight Distance'], bins) #בגלל הערה שקבלנו בחלק הראשון\n",
        "\n",
        "\n",
        "data['Gate location'] = data['Gate location'].map({1.0: 1,2.0: 2, 3.0: 3,4.0: 4,5.0: 5,999.0:None, None:None}) # removing the outliers\n",
        "\n",
        "bins = range(0, int(train_data['Departure Delay in Minutes'].max()) + 50 , 50)\n",
        "data['Departure Delay in Minutes'] = pd.cut(data['Departure Delay in Minutes'], bins , include_lowest=True)\n",
        "\n",
        "bins = range(0, int(train_data['Arrival Delay in Minutes'].max()) + 50 , 50)\n",
        "data['Arrival Delay in Minutes'] = pd.cut(data['Arrival Delay in Minutes'], bins, include_lowest=True)\n",
        "\n",
        "# Remove rows where any of the specified columns have null values\n",
        "data = data.dropna(subset=['Gender', 'Customer Type', 'Age', 'Type of Travel', 'Class',\n",
        "       'Flight Distance', 'Plane colors', 'Inflight wifi service',\n",
        "       'Departure/Arrival time convenient', 'Ease of Online booking',\n",
        "       'Gate location', 'Food and drink', 'Seat comfort', 'On-board service',\n",
        "       'Baggage handling', 'Checkin service',\n",
        "       'Inflight service', 'Cleanliness', 'Departure Delay in Minutes',\n",
        "       'satisfaction'])\n",
        "\n",
        "y_train = data['satisfaction']\n",
        "X_train = data.drop(columns = ['satisfaction'])"
      ]
    },
    {
      "cell_type": "markdown",
      "source": [
        "# Labeling"
      ],
      "metadata": {
        "id": "UmJOTD8xADFn"
      }
    },
    {
      "cell_type": "code",
      "source": [
        "#Labeling Categorical Data\n",
        "age_bins = sorted(list(X_train['Age'].unique()))\n",
        "arrivals_bins = sorted(list(X_train['Arrival Delay in Minutes'].unique()))\n",
        "departure_bins = sorted(list(X_train['Departure Delay in Minutes'].unique()))\n",
        "labels_for_age = {interval: i+1 for i, interval in enumerate(age_bins)}\n",
        "labels_for_arrivals = {interval: i+1 for i, interval in enumerate(arrivals_bins)}\n",
        "labels_for_departure = {interval: i+1 for i, interval in enumerate(departure_bins)}"
      ],
      "metadata": {
        "id": "uUlueOmEfAKc"
      },
      "execution_count": null,
      "outputs": []
    },
    {
      "cell_type": "code",
      "source": [
        "#X_train['Age'] = X_train['Age'].map(labels_for_age)\n",
        "#X_train['Arrival Delay in Minutes'] = X_train['Arrival Delay in Minutes'].map(labels_for_arrivals)\n",
        "#X_train['Departure Delay in Minutes'] = X_train['Departure Delay in Minutes'].map(labels_for_departure)"
      ],
      "metadata": {
        "id": "0mymQa-u4qeO"
      },
      "execution_count": null,
      "outputs": []
    },
    {
      "cell_type": "code",
      "source": [
        "#Labeling Categorical Data\n",
        "#gender_map = {'Male': 0, 'Female': 1}\n",
        "#customer_type_map = {item: i for i, item in enumerate(list(X_train['Customer Type'].unique()))}  #{'Loyal Customer': 0, 'disloyal Customer': 1}\n",
        "#travel_type_map = {item: i for i, item in enumerate(list(X_train['Type of Travel'].unique()))} #{'Personal Travel': 0, 'Business travel': 1}\n",
        "#class_map = {Class: i+1 for i, Class in enumerate(list(X_train['Class'].unique()))} #{'Eco': 1, 'Eco Plus': 2, 'Business': 3}"
      ],
      "metadata": {
        "id": "SX1p8auB3n9g"
      },
      "execution_count": null,
      "outputs": []
    },
    {
      "cell_type": "code",
      "source": [
        "#Maping each column (Labeling)\n",
        "#X_train['Gender'] = X_train['Gender'].map(gender_map)\n",
        "#X_train['Customer Type'] = X_train['Customer Type'].map(customer_type_map)\n",
        "#X_train['Type of Travel'] = X_train['Type of Travel'].map(travel_type_map)\n",
        "#X_train['Class'] = X_train['Class'].map(class_map)"
      ],
      "metadata": {
        "id": "C4zvf0YE8iLy"
      },
      "execution_count": null,
      "outputs": []
    },
    {
      "cell_type": "markdown",
      "metadata": {
        "id": "JT9_VAOvQKPL"
      },
      "source": [
        "#Fitting the NN"
      ]
    },
    {
      "cell_type": "code",
      "execution_count": null,
      "metadata": {
        "id": "WY-luJQrQXkQ"
      },
      "outputs": [],
      "source": [
        "from sklearn.neural_network import MLPClassifier\n",
        "from sklearn.preprocessing import StandardScaler, MinMaxScaler\n",
        "from sklearn.metrics import accuracy_score, f1_score\n",
        "\n",
        "#to fix normalization\n",
        "from sklearn.compose import ColumnTransformer\n",
        "from sklearn.pipeline import Pipeline"
      ]
    },
    {
      "cell_type": "code",
      "execution_count": null,
      "metadata": {
        "id": "ASrK0NPYOoLH"
      },
      "outputs": [],
      "source": [
        "from sklearn.model_selection import train_test_split\n",
        "\n",
        "#x train_matrix and y victor\n",
        "\n",
        "X_train, X_test, y_train, y_test = train_test_split(\n",
        "    X_train, y_train, test_size=1/11, random_state=123)"
      ]
    },
    {
      "cell_type": "code",
      "execution_count": null,
      "metadata": {
        "id": "5-UQiWPWiyar"
      },
      "outputs": [],
      "source": [
        "#normalization\n",
        "standard_scaler = StandardScaler()\n",
        "X_train_s = standard_scaler.fit_transform(X_train)\n",
        "X_test_s = standard_scaler.transform(X_test)\n",
        "minmax_scaler = MinMaxScaler()\n",
        "X_train_n = minmax_scaler.fit_transform(X_train) # we decide to go with the StandardScaler Norrmilaztion!!!"
      ]
    },
    {
      "cell_type": "code",
      "source": [
        "X_train_s.shape, X_test_s.shape, y_train.shape, y_test.shape"
      ],
      "metadata": {
        "id": "P6zDYmJpH4dv",
        "colab": {
          "base_uri": "https://localhost:8080/"
        },
        "outputId": "04c01362-7d10-4c82-b36e-598113e1f13c"
      },
      "execution_count": null,
      "outputs": [
        {
          "output_type": "execute_result",
          "data": {
            "text/plain": [
              "((8181, 83), (819, 83), (8181,), (819,))"
            ]
          },
          "metadata": {},
          "execution_count": 16
        }
      ]
    },
    {
      "cell_type": "code",
      "execution_count": null,
      "metadata": {
        "id": "vXsPm6FPPlXw"
      },
      "outputs": [],
      "source": [
        "model = MLPClassifier(random_state=123,\n",
        "                      hidden_layer_sizes=(10),\n",
        "                      max_iter=1000,\n",
        "                      activation='relu',\n",
        "                      learning_rate_init=0.001)\n"
      ]
    },
    {
      "cell_type": "code",
      "execution_count": null,
      "metadata": {
        "id": "AX8IUlcVQopY",
        "colab": {
          "base_uri": "https://localhost:8080/",
          "height": 75
        },
        "outputId": "db21a393-6e8d-4947-b4d0-2417b6421541"
      },
      "outputs": [
        {
          "output_type": "execute_result",
          "data": {
            "text/plain": [
              "MLPClassifier(hidden_layer_sizes=10, max_iter=1000, random_state=123)"
            ],
            "text/html": [
              "<style>#sk-container-id-1 {color: black;background-color: white;}#sk-container-id-1 pre{padding: 0;}#sk-container-id-1 div.sk-toggleable {background-color: white;}#sk-container-id-1 label.sk-toggleable__label {cursor: pointer;display: block;width: 100%;margin-bottom: 0;padding: 0.3em;box-sizing: border-box;text-align: center;}#sk-container-id-1 label.sk-toggleable__label-arrow:before {content: \"▸\";float: left;margin-right: 0.25em;color: #696969;}#sk-container-id-1 label.sk-toggleable__label-arrow:hover:before {color: black;}#sk-container-id-1 div.sk-estimator:hover label.sk-toggleable__label-arrow:before {color: black;}#sk-container-id-1 div.sk-toggleable__content {max-height: 0;max-width: 0;overflow: hidden;text-align: left;background-color: #f0f8ff;}#sk-container-id-1 div.sk-toggleable__content pre {margin: 0.2em;color: black;border-radius: 0.25em;background-color: #f0f8ff;}#sk-container-id-1 input.sk-toggleable__control:checked~div.sk-toggleable__content {max-height: 200px;max-width: 100%;overflow: auto;}#sk-container-id-1 input.sk-toggleable__control:checked~label.sk-toggleable__label-arrow:before {content: \"▾\";}#sk-container-id-1 div.sk-estimator input.sk-toggleable__control:checked~label.sk-toggleable__label {background-color: #d4ebff;}#sk-container-id-1 div.sk-label input.sk-toggleable__control:checked~label.sk-toggleable__label {background-color: #d4ebff;}#sk-container-id-1 input.sk-hidden--visually {border: 0;clip: rect(1px 1px 1px 1px);clip: rect(1px, 1px, 1px, 1px);height: 1px;margin: -1px;overflow: hidden;padding: 0;position: absolute;width: 1px;}#sk-container-id-1 div.sk-estimator {font-family: monospace;background-color: #f0f8ff;border: 1px dotted black;border-radius: 0.25em;box-sizing: border-box;margin-bottom: 0.5em;}#sk-container-id-1 div.sk-estimator:hover {background-color: #d4ebff;}#sk-container-id-1 div.sk-parallel-item::after {content: \"\";width: 100%;border-bottom: 1px solid gray;flex-grow: 1;}#sk-container-id-1 div.sk-label:hover label.sk-toggleable__label {background-color: #d4ebff;}#sk-container-id-1 div.sk-serial::before {content: \"\";position: absolute;border-left: 1px solid gray;box-sizing: border-box;top: 0;bottom: 0;left: 50%;z-index: 0;}#sk-container-id-1 div.sk-serial {display: flex;flex-direction: column;align-items: center;background-color: white;padding-right: 0.2em;padding-left: 0.2em;position: relative;}#sk-container-id-1 div.sk-item {position: relative;z-index: 1;}#sk-container-id-1 div.sk-parallel {display: flex;align-items: stretch;justify-content: center;background-color: white;position: relative;}#sk-container-id-1 div.sk-item::before, #sk-container-id-1 div.sk-parallel-item::before {content: \"\";position: absolute;border-left: 1px solid gray;box-sizing: border-box;top: 0;bottom: 0;left: 50%;z-index: -1;}#sk-container-id-1 div.sk-parallel-item {display: flex;flex-direction: column;z-index: 1;position: relative;background-color: white;}#sk-container-id-1 div.sk-parallel-item:first-child::after {align-self: flex-end;width: 50%;}#sk-container-id-1 div.sk-parallel-item:last-child::after {align-self: flex-start;width: 50%;}#sk-container-id-1 div.sk-parallel-item:only-child::after {width: 0;}#sk-container-id-1 div.sk-dashed-wrapped {border: 1px dashed gray;margin: 0 0.4em 0.5em 0.4em;box-sizing: border-box;padding-bottom: 0.4em;background-color: white;}#sk-container-id-1 div.sk-label label {font-family: monospace;font-weight: bold;display: inline-block;line-height: 1.2em;}#sk-container-id-1 div.sk-label-container {text-align: center;}#sk-container-id-1 div.sk-container {/* jupyter's `normalize.less` sets `[hidden] { display: none; }` but bootstrap.min.css set `[hidden] { display: none !important; }` so we also need the `!important` here to be able to override the default hidden behavior on the sphinx rendered scikit-learn.org. See: https://github.com/scikit-learn/scikit-learn/issues/21755 */display: inline-block !important;position: relative;}#sk-container-id-1 div.sk-text-repr-fallback {display: none;}</style><div id=\"sk-container-id-1\" class=\"sk-top-container\"><div class=\"sk-text-repr-fallback\"><pre>MLPClassifier(hidden_layer_sizes=10, max_iter=1000, random_state=123)</pre><b>In a Jupyter environment, please rerun this cell to show the HTML representation or trust the notebook. <br />On GitHub, the HTML representation is unable to render, please try loading this page with nbviewer.org.</b></div><div class=\"sk-container\" hidden><div class=\"sk-item\"><div class=\"sk-estimator sk-toggleable\"><input class=\"sk-toggleable__control sk-hidden--visually\" id=\"sk-estimator-id-1\" type=\"checkbox\" checked><label for=\"sk-estimator-id-1\" class=\"sk-toggleable__label sk-toggleable__label-arrow\">MLPClassifier</label><div class=\"sk-toggleable__content\"><pre>MLPClassifier(hidden_layer_sizes=10, max_iter=1000, random_state=123)</pre></div></div></div></div></div>"
            ]
          },
          "metadata": {},
          "execution_count": 18
        }
      ],
      "source": [
        "model.fit(X_train_s, y_train)"
      ]
    },
    {
      "cell_type": "code",
      "execution_count": null,
      "metadata": {
        "id": "R799bPA7a6EY"
      },
      "outputs": [],
      "source": [
        "predicted_values_train = model.predict(X_train_s)\n",
        "predicted_values_test = model.predict(X_test_s)\n",
        "\n",
        "train_score = accuracy_score(y_train,predicted_values_train)\n",
        "test_score = accuracy_score(y_test,predicted_values_test)\n",
        "f1score_train = f1_score(y_train, predicted_values_train)\n",
        "f1score_test = f1_score(y_test, predicted_values_test)"
      ]
    },
    {
      "cell_type": "code",
      "source": [
        "print(\"Accuracy Score\")\n",
        "print(\"Train Accuracy: \" + str(train_score))\n",
        "print(\"Test Accuracy: \" + str(test_score))"
      ],
      "metadata": {
        "id": "Y0ePhY_pi0kS",
        "colab": {
          "base_uri": "https://localhost:8080/"
        },
        "outputId": "24d5a27b-21c8-43b0-de32-cc41a7afbd12"
      },
      "execution_count": null,
      "outputs": [
        {
          "output_type": "stream",
          "name": "stdout",
          "text": [
            "Accuracy Score\n",
            "Train Accuracy: 0.9508617528419508\n",
            "Test Accuracy: 0.894993894993895\n"
          ]
        }
      ]
    },
    {
      "cell_type": "code",
      "execution_count": null,
      "metadata": {
        "id": "J6qWTEEMbqqO",
        "colab": {
          "base_uri": "https://localhost:8080/"
        },
        "outputId": "d70e2c07-ad90-437b-b246-f74cd1deebc8"
      },
      "outputs": [
        {
          "output_type": "stream",
          "name": "stdout",
          "text": [
            "F1 Score\n",
            "Train F1 Score: 0.9434599156118144\n",
            "Test F1 Score: 0.8720238095238095\n"
          ]
        }
      ],
      "source": [
        "print(\"F1 Score\")\n",
        "print(\"Train F1 Score: \" + str(f1score_train))\n",
        "print(\"Test F1 Score: \" + str(f1score_test))"
      ]
    },
    {
      "cell_type": "markdown",
      "metadata": {
        "id": "DE4kzwJETeH4"
      },
      "source": [
        "# סעיף 3"
      ]
    },
    {
      "cell_type": "code",
      "execution_count": null,
      "metadata": {
        "id": "RvDKQRH2ituO",
        "colab": {
          "base_uri": "https://localhost:8080/",
          "height": 711
        },
        "outputId": "faa27e3f-5aec-4eef-f27c-bef6ca572f5e"
      },
      "outputs": [
        {
          "output_type": "stream",
          "name": "stderr",
          "text": [
            "/usr/local/lib/python3.10/dist-packages/sklearn/neural_network/_multilayer_perceptron.py:693: UserWarning: Training interrupted by user.\n",
            "  warnings.warn(\"Training interrupted by user.\")\n",
            "/usr/local/lib/python3.10/dist-packages/sklearn/neural_network/_multilayer_perceptron.py:693: UserWarning: Training interrupted by user.\n",
            "  warnings.warn(\"Training interrupted by user.\")\n",
            "/usr/local/lib/python3.10/dist-packages/sklearn/neural_network/_multilayer_perceptron.py:693: UserWarning: Training interrupted by user.\n",
            "  warnings.warn(\"Training interrupted by user.\")\n"
          ]
        },
        {
          "output_type": "display_data",
          "data": {
            "text/plain": [
              "<Figure size 1000x600 with 1 Axes>"
            ],
            "image/png": "[encoded data removed]"
          },
          "metadata": {}
        }
      ],
      "source": [
        "neuron_numbers = [5,10,15,20,25,30,40,50,100]\n",
        "\n",
        "# Initialize lists to store train and test scores\n",
        "train_f1_scores = []\n",
        "test_f1_scores = []\n",
        "\n",
        "# Iterate over different numbers of neurons\n",
        "for neurons in neuron_numbers:\n",
        "    # Create MLPClassifier with current number of neurons\n",
        "    mlp = MLPClassifier(hidden_layer_sizes=(neurons,), max_iter=1000, random_state=123)\n",
        "\n",
        "    # Train the model\n",
        "    mlp.fit(X_train_s, y_train)\n",
        "\n",
        "    # Predict on train set\n",
        "    train_preds = mlp.predict(X_train_s)\n",
        "    train_f1 = f1_score(y_train, train_preds)\n",
        "    train_f1_scores.append(train_f1)\n",
        "\n",
        "    # Predict on test set\n",
        "    test_preds = mlp.predict(X_test_s)\n",
        "    test_f1 = f1_score(y_test, test_preds)\n",
        "    test_f1_scores.append(test_f1)\n",
        "\n",
        "# Plotting the graph\n",
        "plt.figure(figsize=(10, 6))\n",
        "plt.plot(neuron_numbers, train_f1_scores, marker='o', label='Train Accuracy')\n",
        "plt.plot(neuron_numbers, test_f1_scores, marker='o', label='Test Accuracy')\n",
        "plt.title('MLPClassifier: Number of Neurons vs. Accuracy')\n",
        "plt.xlabel('Number of Neurons')\n",
        "plt.ylabel('Accuracy')\n",
        "plt.xticks(neuron_numbers)\n",
        "plt.legend()\n",
        "plt.grid(True)\n",
        "plt.tight_layout()\n",
        "plt.show()"
      ]
    },
    {
      "cell_type": "markdown",
      "source": [
        "20 NEURONS IS THE BEST CHOICE if we use the accuarcy metric <br>\n",
        "25 neurons is the best choice by f1_score\n",
        "\n",
        "\n"
      ],
      "metadata": {
        "id": "oDkzwC0TMDdx"
      }
    },
    {
      "cell_type": "code",
      "source": [
        "activations = ['logistic', 'tanh', 'relu', 'identity']\n",
        "train_f1_scores = []\n",
        "test_f1_scores = []\n",
        "\n",
        "# Loop over each activation function\n",
        "for activation in activations:\n",
        "    # Create MLPClassifier with specified parameters\n",
        "    model = MLPClassifier(random_state=123,\n",
        "                          hidden_layer_sizes=(20,),\n",
        "                          max_iter=40,\n",
        "                          activation=activation,\n",
        "                          verbose=False,\n",
        "                          learning_rate_init=0.01,\n",
        "                          early_stopping=True,\n",
        "                          solver='adam',\n",
        "                          alpha=10/460)\n",
        "\n",
        "    # Fit the model on training data\n",
        "    model.fit(X_train_s, y_train)\n",
        "\n",
        "    # Predict on training set\n",
        "    train_preds = model.predict(X_train_s)\n",
        "    train_f1 = f1_score(y_train, train_preds)\n",
        "    train_f1_scores.append(train_f1)\n",
        "\n",
        "    # Predict on test set\n",
        "    test_preds = model.predict(X_test_s)\n",
        "    test_f1 = f1_score(y_test, test_preds)\n",
        "    test_f1_scores.append(test_f1)\n",
        "\n",
        "# Plotting the results\n",
        "plt.figure(figsize=(10, 6))\n",
        "\n",
        "bar_width = 0.35\n",
        "index = np.arange(len(activations))\n",
        "\n",
        "bars_train = plt.bar(index, train_f1_scores, bar_width, label='Train F1 Score')\n",
        "bars_test = plt.bar(index + bar_width, test_f1_scores, bar_width, label='Test F1 Score')\n",
        "\n",
        "# Add labels and text annotations\n",
        "plt.xlabel('Activation Function')\n",
        "plt.ylabel('F1 Score')\n",
        "plt.title('Training and Test F1 Score for Different Activation Functions')\n",
        "plt.xticks(index + bar_width / 2, activations)\n",
        "plt.legend()\n",
        "\n",
        "# Function to annotate bars with F1 score values\n",
        "def annotate_bars(bars):\n",
        "    for bar in bars:\n",
        "        yval = bar.get_height()\n",
        "        plt.text(bar.get_x() + bar.get_width() / 2, yval, f'{yval:.2f}', ha='center', va='bottom')\n",
        "\n",
        "# Annotate the bars\n",
        "annotate_bars(bars_train)\n",
        "annotate_bars(bars_test)\n",
        "\n",
        "plt.grid(True)\n",
        "plt.tight_layout()\n",
        "plt.show()"
      ],
      "metadata": {
        "id": "H0tIknCgP5s5",
        "colab": {
          "base_uri": "https://localhost:8080/",
          "height": 607
        },
        "outputId": "c45a3754-7fa1-438c-9aef-c3cb980c840e"
      },
      "execution_count": null,
      "outputs": [
        {
          "output_type": "display_data",
          "data": {
            "text/plain": [
              "<Figure size 1000x600 with 1 Axes>"
            ],
            "image/png": "[encoded data removed]"
          },
          "metadata": {}
        }
      ]
    },
    {
      "cell_type": "markdown",
      "source": [
        "best activiation function: **logistic** by accuarcy metrics <br>\n",
        "best activiation function: **relu** by f1 score metric"
      ],
      "metadata": {
        "id": "-bp4leLoyDOl"
      }
    },
    {
      "cell_type": "code",
      "source": [
        "solvers = ['adam', 'sgd', 'lbfgs']\n",
        "train_f1_scores = []\n",
        "test_f1_scores = []\n",
        "\n",
        "# Loop over each solver\n",
        "for solver in solvers:\n",
        "    # Create MLPClassifier with specified parameters\n",
        "    model = MLPClassifier(random_state=123,\n",
        "                          hidden_layer_sizes=(20,),\n",
        "                          max_iter=40,\n",
        "                          activation='relu',  # Example activation function\n",
        "                          verbose=False,\n",
        "                          learning_rate_init=0.01,\n",
        "                          early_stopping=True,\n",
        "                          solver=solver,\n",
        "                          alpha=10/460)\n",
        "\n",
        "    # Fit the model on training data\n",
        "    model.fit(X_train_s, y_train)\n",
        "\n",
        "    # Predict on training set\n",
        "    train_preds = model.predict(X_train_s)\n",
        "    train_f1 = f1_score(y_train, train_preds)\n",
        "    train_f1_scores.append(train_f1)\n",
        "\n",
        "    # Predict on test set\n",
        "    test_preds = model.predict(X_test_s)\n",
        "    test_f1 = f1_score(y_test, test_preds)\n",
        "    test_f1_scores.append(test_f1)\n",
        "\n",
        "# Plotting the results\n",
        "plt.figure(figsize=(10, 6))\n",
        "\n",
        "bar_width = 0.35\n",
        "index = np.arange(len(solvers))\n",
        "\n",
        "bars_train = plt.bar(index, train_f1_scores, bar_width, label='Train')\n",
        "bars_test = plt.bar(index + bar_width, test_f1_scores, bar_width, label='Test')\n",
        "\n",
        "# Add labels and text annotations\n",
        "plt.xlabel('Solver')\n",
        "plt.ylabel('F1 Score')\n",
        "plt.title('Training and Test F1 Score for Different Solvers')\n",
        "plt.xticks(index + bar_width / 2, solvers)\n",
        "plt.legend()\n",
        "\n",
        "# Function to annotate bars with F1 score values\n",
        "def annotate_bars(bars):\n",
        "    for bar in bars:\n",
        "        yval = bar.get_height()\n",
        "        plt.text(bar.get_x() + bar.get_width() / 2, yval, f'{yval:.2f}', ha='center', va='bottom')\n",
        "\n",
        "# Annotate the bars\n",
        "annotate_bars(bars_train)\n",
        "annotate_bars(bars_test)\n",
        "\n",
        "plt.grid(True)\n",
        "plt.tight_layout()\n",
        "plt.show()"
      ],
      "metadata": {
        "id": "V5fmODw7Ziet",
        "colab": {
          "base_uri": "https://localhost:8080/",
          "height": 711
        },
        "outputId": "5f1f509f-f96b-49e9-85ec-4b7360ffc670"
      },
      "execution_count": null,
      "outputs": [
        {
          "output_type": "stream",
          "name": "stderr",
          "text": [
            "/usr/local/lib/python3.10/dist-packages/sklearn/neural_network/_multilayer_perceptron.py:541: ConvergenceWarning: lbfgs failed to converge (status=1):\n",
            "STOP: TOTAL NO. of ITERATIONS REACHED LIMIT.\n",
            "\n",
            "Increase the number of iterations (max_iter) or scale the data as shown in:\n",
            "    https://scikit-learn.org/stable/modules/preprocessing.html\n",
            "  self.n_iter_ = _check_optimize_result(\"lbfgs\", opt_res, self.max_iter)\n"
          ]
        },
        {
          "output_type": "display_data",
          "data": {
            "text/plain": [
              "<Figure size 1000x600 with 1 Axes>"
            ],
            "image/png": "[encoded data removed]"
          },
          "metadata": {}
        }
      ]
    },
    {
      "cell_type": "markdown",
      "source": [
        "best solver : **lbfgs** <br>\n",
        "best solver : **lbfgs** also by f1 score"
      ],
      "metadata": {
        "id": "mBIcDmAvxu1u"
      }
    },
    {
      "cell_type": "code",
      "source": [
        "learning_rates = [0.001, 0.01, 0.1, 1.0]\n",
        "train_accs = []\n",
        "test_accs = []\n",
        "\n",
        "# Loop over each learning rate\n",
        "for lr in learning_rates:\n",
        "    # Create MLPClassifier with specified parameters\n",
        "    model = MLPClassifier(random_state=123,\n",
        "                          hidden_layer_sizes=(20,),\n",
        "                          max_iter=40,\n",
        "                          activation='relu',\n",
        "                          verbose=False,\n",
        "                          learning_rate_init=lr,\n",
        "                          early_stopping=True,\n",
        "                          solver='adam',\n",
        "                          alpha=10/460)\n",
        "\n",
        "    # Fit the model on training data\n",
        "    model.fit(X_train_s, y_train)\n",
        "\n",
        "    # Calculate training accuracy\n",
        "    train_acc = accuracy_score(y_train, model.predict(X_train_s))\n",
        "    train_accs.append(train_acc)\n",
        "\n",
        "    # Calculate test accuracy\n",
        "    test_acc = accuracy_score(y_test, model.predict(X_test_s))\n",
        "    test_accs.append(test_acc)\n",
        "\n",
        "# Plotting the results\n",
        "plt.figure(figsize=(10, 6))\n",
        "\n",
        "bar_width = 0.35\n",
        "index = np.arange(len(learning_rates))\n",
        "\n",
        "bars_train = plt.bar(index, train_accs, bar_width, label='Train')\n",
        "bars_test = plt.bar(index + bar_width, test_accs, bar_width, label='Test')\n",
        "\n",
        "# Add labels and text annotations\n",
        "plt.xlabel('Learning Rate')\n",
        "plt.ylabel('Accuracy')\n",
        "plt.title('Training and Test Accuracy for Different Learning Rates')\n",
        "plt.xticks(index + bar_width / 2, learning_rates)\n",
        "plt.legend()\n",
        "\n",
        "# Function to annotate bars with accuracy values\n",
        "def annotate_bars(bars):\n",
        "    for bar in bars:\n",
        "        yval = bar.get_height()\n",
        "        plt.text(bar.get_x() + bar.get_width() / 2, yval, round(yval, 2), ha='center', va='bottom')\n",
        "\n",
        "# Annotate the bars\n",
        "annotate_bars(bars_train)\n",
        "annotate_bars(bars_test)\n",
        "\n",
        "plt.grid(True)\n",
        "plt.tight_layout()\n",
        "plt.show()"
      ],
      "metadata": {
        "id": "dNLLgsg4w-6-",
        "colab": {
          "base_uri": "https://localhost:8080/",
          "height": 607
        },
        "outputId": "1a6a4361-cf1a-4696-ced9-41f4d4e1a3c8"
      },
      "execution_count": null,
      "outputs": [
        {
          "output_type": "display_data",
          "data": {
            "text/plain": [
              "<Figure size 1000x600 with 1 Axes>"
            ],
            "image/png": "[encoded data removed]"
          },
          "metadata": {}
        }
      ]
    },
    {
      "cell_type": "markdown",
      "source": [
        "the best learning rate: 0.1"
      ],
      "metadata": {
        "id": "ZOgQxJ6IyYJx"
      }
    },
    {
      "cell_type": "code",
      "source": [
        "learning_rates = [0.001, 0.01, 0.1, 1.0]\n",
        "train_f1_scores = []\n",
        "test_f1_scores = []\n",
        "\n",
        "# Loop over each learning rate\n",
        "for lr in learning_rates:\n",
        "    # Create MLPClassifier with specified parameters\n",
        "    model = MLPClassifier(random_state=123,\n",
        "                          hidden_layer_sizes=(20,),\n",
        "                          max_iter=40,\n",
        "                          activation='relu',\n",
        "                          verbose=False,\n",
        "                          learning_rate_init=lr,\n",
        "                          early_stopping=True,\n",
        "                          solver='adam',\n",
        "                          alpha=10/460)\n",
        "\n",
        "    # Fit the model on training data\n",
        "    model.fit(X_train_s, y_train)\n",
        "\n",
        "    # Predict on training set\n",
        "    train_preds = model.predict(X_train_s)\n",
        "    train_f1 = f1_score(y_train, train_preds)\n",
        "    train_f1_scores.append(train_f1)\n",
        "\n",
        "    # Predict on test set\n",
        "    test_preds = model.predict(X_test_s)\n",
        "    test_f1 = f1_score(y_test, test_preds)\n",
        "    test_f1_scores.append(test_f1)\n",
        "\n",
        "# Plotting the results\n",
        "plt.figure(figsize=(10, 6))\n",
        "\n",
        "bar_width = 0.35\n",
        "index = np.arange(len(learning_rates))\n",
        "\n",
        "bars_train = plt.bar(index, train_f1_scores, bar_width, label='Train')\n",
        "bars_test = plt.bar(index + bar_width, test_f1_scores, bar_width, label='Test')\n",
        "\n",
        "# Add labels and text annotations\n",
        "plt.xlabel('Learning Rate')\n",
        "plt.ylabel('F1 Score')\n",
        "plt.title('Training and Test F1 Score for Different Learning Rates')\n",
        "plt.xticks(index + bar_width / 2, learning_rates)\n",
        "plt.legend()\n",
        "\n",
        "# Function to annotate bars with F1 score values\n",
        "def annotate_bars(bars):\n",
        "    for bar in bars:\n",
        "        yval = bar.get_height()\n",
        "        plt.text(bar.get_x() + bar.get_width() / 2, yval, f'{yval:.2f}', ha='center', va='bottom')\n",
        "\n",
        "# Annotate the bars\n",
        "annotate_bars(bars_train)\n",
        "annotate_bars(bars_test)\n",
        "\n",
        "plt.grid(True)\n",
        "plt.tight_layout()\n",
        "plt.show()"
      ],
      "metadata": {
        "id": "_PP6r0d_K9eJ",
        "colab": {
          "base_uri": "https://localhost:8080/",
          "height": 607
        },
        "outputId": "c9c3affd-cdf9-47dd-ef77-11e79f2c0dea"
      },
      "execution_count": null,
      "outputs": [
        {
          "output_type": "display_data",
          "data": {
            "text/plain": [
              "<Figure size 1000x600 with 1 Axes>"
            ],
            "image/png": "[encoded data removed]"
          },
          "metadata": {}
        }
      ]
    },
    {
      "cell_type": "markdown",
      "source": [
        "the best learning rate: **0.01** by f1 score"
      ],
      "metadata": {
        "id": "cgSkFhEELMlr"
      }
    },
    {
      "cell_type": "markdown",
      "source": [
        "# סעיף 4"
      ],
      "metadata": {
        "id": "VUwziSHExSTO"
      }
    },
    {
      "cell_type": "markdown",
      "source": [
        "הרצת הרשת הניורנים באמצעות הקונפיגוריצה הנבחרת מהסעיף הקודם <br>  activation='logistic'<br>  \n",
        "solver='lbfgs''<br>  \n",
        "learning_rate_init=0.1<br>  \n",
        "hidden_layer_sizes=(20,)\n"
      ],
      "metadata": {
        "id": "0Iw2LEJGyy1z"
      }
    },
    {
      "cell_type": "code",
      "source": [
        "optimal_model = MLPClassifier(random_state=123,\n",
        "                          hidden_layer_sizes=(20,),\n",
        "                          max_iter=40,\n",
        "                          activation='logistic',\n",
        "                          verbose=False,\n",
        "                          learning_rate_init=0.1,\n",
        "                          early_stopping=True,\n",
        "                          solver='lbfgs',\n",
        "                          alpha=10/460)"
      ],
      "metadata": {
        "id": "HrzqqFM-xRiP"
      },
      "execution_count": null,
      "outputs": []
    },
    {
      "cell_type": "code",
      "source": [
        "optimal_model.fit(X_train_s, y_train)"
      ],
      "metadata": {
        "id": "jaw9XZOtyoUy",
        "colab": {
          "base_uri": "https://localhost:8080/",
          "height": 231
        },
        "outputId": "2da0dccb-a234-4e40-eec6-e28925d6e876"
      },
      "execution_count": null,
      "outputs": [
        {
          "output_type": "stream",
          "name": "stderr",
          "text": [
            "/usr/local/lib/python3.10/dist-packages/sklearn/neural_network/_multilayer_perceptron.py:541: ConvergenceWarning: lbfgs failed to converge (status=1):\n",
            "STOP: TOTAL NO. of ITERATIONS REACHED LIMIT.\n",
            "\n",
            "Increase the number of iterations (max_iter) or scale the data as shown in:\n",
            "    https://scikit-learn.org/stable/modules/preprocessing.html\n",
            "  self.n_iter_ = _check_optimize_result(\"lbfgs\", opt_res, self.max_iter)\n"
          ]
        },
        {
          "output_type": "execute_result",
          "data": {
            "text/plain": [
              "MLPClassifier(activation='logistic', alpha=0.021739130434782608,\n",
              "              early_stopping=True, hidden_layer_sizes=(20,),\n",
              "              learning_rate_init=0.1, max_iter=40, random_state=123,\n",
              "              solver='lbfgs')"
            ],
            "text/html": [
              "<style>#sk-container-id-2 {color: black;background-color: white;}#sk-container-id-2 pre{padding: 0;}#sk-container-id-2 div.sk-toggleable {background-color: white;}#sk-container-id-2 label.sk-toggleable__label {cursor: pointer;display: block;width: 100%;margin-bottom: 0;padding: 0.3em;box-sizing: border-box;text-align: center;}#sk-container-id-2 label.sk-toggleable__label-arrow:before {content: \"▸\";float: left;margin-right: 0.25em;color: #696969;}#sk-container-id-2 label.sk-toggleable__label-arrow:hover:before {color: black;}#sk-container-id-2 div.sk-estimator:hover label.sk-toggleable__label-arrow:before {color: black;}#sk-container-id-2 div.sk-toggleable__content {max-height: 0;max-width: 0;overflow: hidden;text-align: left;background-color: #f0f8ff;}#sk-container-id-2 div.sk-toggleable__content pre {margin: 0.2em;color: black;border-radius: 0.25em;background-color: #f0f8ff;}#sk-container-id-2 input.sk-toggleable__control:checked~div.sk-toggleable__content {max-height: 200px;max-width: 100%;overflow: auto;}#sk-container-id-2 input.sk-toggleable__control:checked~label.sk-toggleable__label-arrow:before {content: \"▾\";}#sk-container-id-2 div.sk-estimator input.sk-toggleable__control:checked~label.sk-toggleable__label {background-color: #d4ebff;}#sk-container-id-2 div.sk-label input.sk-toggleable__control:checked~label.sk-toggleable__label {background-color: #d4ebff;}#sk-container-id-2 input.sk-hidden--visually {border: 0;clip: rect(1px 1px 1px 1px);clip: rect(1px, 1px, 1px, 1px);height: 1px;margin: -1px;overflow: hidden;padding: 0;position: absolute;width: 1px;}#sk-container-id-2 div.sk-estimator {font-family: monospace;background-color: #f0f8ff;border: 1px dotted black;border-radius: 0.25em;box-sizing: border-box;margin-bottom: 0.5em;}#sk-container-id-2 div.sk-estimator:hover {background-color: #d4ebff;}#sk-container-id-2 div.sk-parallel-item::after {content: \"\";width: 100%;border-bottom: 1px solid gray;flex-grow: 1;}#sk-container-id-2 div.sk-label:hover label.sk-toggleable__label {background-color: #d4ebff;}#sk-container-id-2 div.sk-serial::before {content: \"\";position: absolute;border-left: 1px solid gray;box-sizing: border-box;top: 0;bottom: 0;left: 50%;z-index: 0;}#sk-container-id-2 div.sk-serial {display: flex;flex-direction: column;align-items: center;background-color: white;padding-right: 0.2em;padding-left: 0.2em;position: relative;}#sk-container-id-2 div.sk-item {position: relative;z-index: 1;}#sk-container-id-2 div.sk-parallel {display: flex;align-items: stretch;justify-content: center;background-color: white;position: relative;}#sk-container-id-2 div.sk-item::before, #sk-container-id-2 div.sk-parallel-item::before {content: \"\";position: absolute;border-left: 1px solid gray;box-sizing: border-box;top: 0;bottom: 0;left: 50%;z-index: -1;}#sk-container-id-2 div.sk-parallel-item {display: flex;flex-direction: column;z-index: 1;position: relative;background-color: white;}#sk-container-id-2 div.sk-parallel-item:first-child::after {align-self: flex-end;width: 50%;}#sk-container-id-2 div.sk-parallel-item:last-child::after {align-self: flex-start;width: 50%;}#sk-container-id-2 div.sk-parallel-item:only-child::after {width: 0;}#sk-container-id-2 div.sk-dashed-wrapped {border: 1px dashed gray;margin: 0 0.4em 0.5em 0.4em;box-sizing: border-box;padding-bottom: 0.4em;background-color: white;}#sk-container-id-2 div.sk-label label {font-family: monospace;font-weight: bold;display: inline-block;line-height: 1.2em;}#sk-container-id-2 div.sk-label-container {text-align: center;}#sk-container-id-2 div.sk-container {/* jupyter's `normalize.less` sets `[hidden] { display: none; }` but bootstrap.min.css set `[hidden] { display: none !important; }` so we also need the `!important` here to be able to override the default hidden behavior on the sphinx rendered scikit-learn.org. See: https://github.com/scikit-learn/scikit-learn/issues/21755 */display: inline-block !important;position: relative;}#sk-container-id-2 div.sk-text-repr-fallback {display: none;}</style><div id=\"sk-container-id-2\" class=\"sk-top-container\"><div class=\"sk-text-repr-fallback\"><pre>MLPClassifier(activation=&#x27;logistic&#x27;, alpha=0.021739130434782608,\n",
              "              early_stopping=True, hidden_layer_sizes=(20,),\n",
              "              learning_rate_init=0.1, max_iter=40, random_state=123,\n",
              "              solver=&#x27;lbfgs&#x27;)</pre><b>In a Jupyter environment, please rerun this cell to show the HTML representation or trust the notebook. <br />On GitHub, the HTML representation is unable to render, please try loading this page with nbviewer.org.</b></div><div class=\"sk-container\" hidden><div class=\"sk-item\"><div class=\"sk-estimator sk-toggleable\"><input class=\"sk-toggleable__control sk-hidden--visually\" id=\"sk-estimator-id-2\" type=\"checkbox\" checked><label for=\"sk-estimator-id-2\" class=\"sk-toggleable__label sk-toggleable__label-arrow\">MLPClassifier</label><div class=\"sk-toggleable__content\"><pre>MLPClassifier(activation=&#x27;logistic&#x27;, alpha=0.021739130434782608,\n",
              "              early_stopping=True, hidden_layer_sizes=(20,),\n",
              "              learning_rate_init=0.1, max_iter=40, random_state=123,\n",
              "              solver=&#x27;lbfgs&#x27;)</pre></div></div></div></div></div>"
            ]
          },
          "metadata": {},
          "execution_count": 28
        }
      ]
    },
    {
      "cell_type": "code",
      "source": [
        "optimal_predicted_values_train = optimal_model.predict(X_train_s)\n",
        "optimal_predicted_values_test = optimal_model.predict(X_test_s)\n",
        "\n",
        "train_score_op = accuracy_score(y_train,optimal_predicted_values_train)\n",
        "test_score_op = accuracy_score(y_test,optimal_predicted_values_test)\n",
        "f1score_train_op = f1_score(y_train, optimal_predicted_values_train)\n",
        "f1score_test_op = f1_score(y_test,optimal_predicted_values_test)"
      ],
      "metadata": {
        "id": "atn1__D50BYg"
      },
      "execution_count": null,
      "outputs": []
    },
    {
      "cell_type": "code",
      "source": [
        "print(\"Accuracy Score With the Best Configuration\")\n",
        "print(\"Train Accuracy: \" + str(train_score_op))\n",
        "print(\"Test Accuracy: \" + str(test_score_op))"
      ],
      "metadata": {
        "id": "oqI6JBnG0bN0",
        "colab": {
          "base_uri": "https://localhost:8080/"
        },
        "outputId": "882de88b-69d0-4916-8f60-b8f94f177a91"
      },
      "execution_count": null,
      "outputs": [
        {
          "output_type": "stream",
          "name": "stdout",
          "text": [
            "Accuracy Score With the Best Configuration\n",
            "Train Accuracy: 0.9625962596259626\n",
            "Test Accuracy: 0.8815628815628815\n"
          ]
        }
      ]
    },
    {
      "cell_type": "code",
      "source": [
        "print(\"F1 Score With the Best Configuration\")\n",
        "print(\"Train F1 Score: \" + str(f1score_train_op))\n",
        "print(\"Test F1 Score: \" + str(f1score_test_op))"
      ],
      "metadata": {
        "id": "1apfrmWa0rFM",
        "colab": {
          "base_uri": "https://localhost:8080/"
        },
        "outputId": "b4c7bfb6-f90a-4f51-ca6c-158d7524fec8"
      },
      "execution_count": null,
      "outputs": [
        {
          "output_type": "stream",
          "name": "stdout",
          "text": [
            "F1 Score With the Best Configuration\n",
            "Train F1 Score: 0.9570466030320044\n",
            "Test F1 Score: 0.8575624082232011\n"
          ]
        }
      ]
    },
    {
      "cell_type": "markdown",
      "source": [
        "#סעיף 4 לפי f1\n",
        "\n"
      ],
      "metadata": {
        "id": "ZrueHMTWLs33"
      }
    },
    {
      "cell_type": "markdown",
      "source": [
        "הרצת הרשת הניורנים באמצעות הקונפיגוריצה הנבחרת מהסעיף הקודם <br>  activation='relu'<br>  \n",
        "solver='lbfgs''<br>  \n",
        "learning_rate_init=0.01<br>  \n",
        "hidden_layer_sizes=(25,)\n"
      ],
      "metadata": {
        "id": "ibrxsOe3MCzJ"
      }
    },
    {
      "cell_type": "code",
      "source": [
        "optimal_model_f1 = MLPClassifier(random_state=123,\n",
        "                          hidden_layer_sizes=(25,),\n",
        "                          max_iter=40,\n",
        "                          activation='relu',\n",
        "                          verbose=False,\n",
        "                          learning_rate_init=0.01,\n",
        "                          early_stopping=True,\n",
        "                          solver='lbfgs',\n",
        "                          alpha=10/460)"
      ],
      "metadata": {
        "id": "Cm9ppgayLqr_"
      },
      "execution_count": null,
      "outputs": []
    },
    {
      "cell_type": "code",
      "source": [
        "optimal_model_f1.fit(X_train_s, y_train)"
      ],
      "metadata": {
        "id": "n_IPrNTKMLR8",
        "colab": {
          "base_uri": "https://localhost:8080/",
          "height": 214
        },
        "outputId": "90956087-e06f-4894-f8ad-d325542e7444"
      },
      "execution_count": null,
      "outputs": [
        {
          "output_type": "stream",
          "name": "stderr",
          "text": [
            "/usr/local/lib/python3.10/dist-packages/sklearn/neural_network/_multilayer_perceptron.py:541: ConvergenceWarning: lbfgs failed to converge (status=1):\n",
            "STOP: TOTAL NO. of ITERATIONS REACHED LIMIT.\n",
            "\n",
            "Increase the number of iterations (max_iter) or scale the data as shown in:\n",
            "    https://scikit-learn.org/stable/modules/preprocessing.html\n",
            "  self.n_iter_ = _check_optimize_result(\"lbfgs\", opt_res, self.max_iter)\n"
          ]
        },
        {
          "output_type": "execute_result",
          "data": {
            "text/plain": [
              "MLPClassifier(alpha=0.021739130434782608, early_stopping=True,\n",
              "              hidden_layer_sizes=(25,), learning_rate_init=0.01, max_iter=40,\n",
              "              random_state=123, solver='lbfgs')"
            ],
            "text/html": [
              "<style>#sk-container-id-3 {color: black;background-color: white;}#sk-container-id-3 pre{padding: 0;}#sk-container-id-3 div.sk-toggleable {background-color: white;}#sk-container-id-3 label.sk-toggleable__label {cursor: pointer;display: block;width: 100%;margin-bottom: 0;padding: 0.3em;box-sizing: border-box;text-align: center;}#sk-container-id-3 label.sk-toggleable__label-arrow:before {content: \"▸\";float: left;margin-right: 0.25em;color: #696969;}#sk-container-id-3 label.sk-toggleable__label-arrow:hover:before {color: black;}#sk-container-id-3 div.sk-estimator:hover label.sk-toggleable__label-arrow:before {color: black;}#sk-container-id-3 div.sk-toggleable__content {max-height: 0;max-width: 0;overflow: hidden;text-align: left;background-color: #f0f8ff;}#sk-container-id-3 div.sk-toggleable__content pre {margin: 0.2em;color: black;border-radius: 0.25em;background-color: #f0f8ff;}#sk-container-id-3 input.sk-toggleable__control:checked~div.sk-toggleable__content {max-height: 200px;max-width: 100%;overflow: auto;}#sk-container-id-3 input.sk-toggleable__control:checked~label.sk-toggleable__label-arrow:before {content: \"▾\";}#sk-container-id-3 div.sk-estimator input.sk-toggleable__control:checked~label.sk-toggleable__label {background-color: #d4ebff;}#sk-container-id-3 div.sk-label input.sk-toggleable__control:checked~label.sk-toggleable__label {background-color: #d4ebff;}#sk-container-id-3 input.sk-hidden--visually {border: 0;clip: rect(1px 1px 1px 1px);clip: rect(1px, 1px, 1px, 1px);height: 1px;margin: -1px;overflow: hidden;padding: 0;position: absolute;width: 1px;}#sk-container-id-3 div.sk-estimator {font-family: monospace;background-color: #f0f8ff;border: 1px dotted black;border-radius: 0.25em;box-sizing: border-box;margin-bottom: 0.5em;}#sk-container-id-3 div.sk-estimator:hover {background-color: #d4ebff;}#sk-container-id-3 div.sk-parallel-item::after {content: \"\";width: 100%;border-bottom: 1px solid gray;flex-grow: 1;}#sk-container-id-3 div.sk-label:hover label.sk-toggleable__label {background-color: #d4ebff;}#sk-container-id-3 div.sk-serial::before {content: \"\";position: absolute;border-left: 1px solid gray;box-sizing: border-box;top: 0;bottom: 0;left: 50%;z-index: 0;}#sk-container-id-3 div.sk-serial {display: flex;flex-direction: column;align-items: center;background-color: white;padding-right: 0.2em;padding-left: 0.2em;position: relative;}#sk-container-id-3 div.sk-item {position: relative;z-index: 1;}#sk-container-id-3 div.sk-parallel {display: flex;align-items: stretch;justify-content: center;background-color: white;position: relative;}#sk-container-id-3 div.sk-item::before, #sk-container-id-3 div.sk-parallel-item::before {content: \"\";position: absolute;border-left: 1px solid gray;box-sizing: border-box;top: 0;bottom: 0;left: 50%;z-index: -1;}#sk-container-id-3 div.sk-parallel-item {display: flex;flex-direction: column;z-index: 1;position: relative;background-color: white;}#sk-container-id-3 div.sk-parallel-item:first-child::after {align-self: flex-end;width: 50%;}#sk-container-id-3 div.sk-parallel-item:last-child::after {align-self: flex-start;width: 50%;}#sk-container-id-3 div.sk-parallel-item:only-child::after {width: 0;}#sk-container-id-3 div.sk-dashed-wrapped {border: 1px dashed gray;margin: 0 0.4em 0.5em 0.4em;box-sizing: border-box;padding-bottom: 0.4em;background-color: white;}#sk-container-id-3 div.sk-label label {font-family: monospace;font-weight: bold;display: inline-block;line-height: 1.2em;}#sk-container-id-3 div.sk-label-container {text-align: center;}#sk-container-id-3 div.sk-container {/* jupyter's `normalize.less` sets `[hidden] { display: none; }` but bootstrap.min.css set `[hidden] { display: none !important; }` so we also need the `!important` here to be able to override the default hidden behavior on the sphinx rendered scikit-learn.org. See: https://github.com/scikit-learn/scikit-learn/issues/21755 */display: inline-block !important;position: relative;}#sk-container-id-3 div.sk-text-repr-fallback {display: none;}</style><div id=\"sk-container-id-3\" class=\"sk-top-container\"><div class=\"sk-text-repr-fallback\"><pre>MLPClassifier(alpha=0.021739130434782608, early_stopping=True,\n",
              "              hidden_layer_sizes=(25,), learning_rate_init=0.01, max_iter=40,\n",
              "              random_state=123, solver=&#x27;lbfgs&#x27;)</pre><b>In a Jupyter environment, please rerun this cell to show the HTML representation or trust the notebook. <br />On GitHub, the HTML representation is unable to render, please try loading this page with nbviewer.org.</b></div><div class=\"sk-container\" hidden><div class=\"sk-item\"><div class=\"sk-estimator sk-toggleable\"><input class=\"sk-toggleable__control sk-hidden--visually\" id=\"sk-estimator-id-3\" type=\"checkbox\" checked><label for=\"sk-estimator-id-3\" class=\"sk-toggleable__label sk-toggleable__label-arrow\">MLPClassifier</label><div class=\"sk-toggleable__content\"><pre>MLPClassifier(alpha=0.021739130434782608, early_stopping=True,\n",
              "              hidden_layer_sizes=(25,), learning_rate_init=0.01, max_iter=40,\n",
              "              random_state=123, solver=&#x27;lbfgs&#x27;)</pre></div></div></div></div></div>"
            ]
          },
          "metadata": {},
          "execution_count": 33
        }
      ]
    },
    {
      "cell_type": "code",
      "source": [
        "optimal_predicted_f1_values_train = optimal_model_f1.predict(X_train_s)\n",
        "optimal_predicted_f1_values_test = optimal_model_f1.predict(X_test_s)\n",
        "\n",
        "train_score_op_f1 = accuracy_score(y_train,optimal_predicted_f1_values_train)\n",
        "test_score_op_f1 = accuracy_score(y_test,optimal_predicted_f1_values_test)\n",
        "f1score_train_op_f1 = f1_score(y_train, optimal_predicted_f1_values_train)\n",
        "f1score_test_op_f1 = f1_score(y_test,optimal_predicted_f1_values_test)"
      ],
      "metadata": {
        "id": "bSMCUk4qMSLB"
      },
      "execution_count": null,
      "outputs": []
    },
    {
      "cell_type": "code",
      "source": [
        "print(\"Accuracy Score With the Best Configuration\")\n",
        "print(\"Train Accuracy: \" + str(train_score_op_f1))\n",
        "print(\"Test Accuracy: \" + str(test_score_op_f1))"
      ],
      "metadata": {
        "id": "pdYRauE3MkIv",
        "colab": {
          "base_uri": "https://localhost:8080/"
        },
        "outputId": "dcd79162-a6f2-402b-ad6c-0f8bc84c9974"
      },
      "execution_count": null,
      "outputs": [
        {
          "output_type": "stream",
          "name": "stdout",
          "text": [
            "Accuracy Score With the Best Configuration\n",
            "Train Accuracy: 0.9804424886933137\n",
            "Test Accuracy: 0.8681318681318682\n"
          ]
        }
      ]
    },
    {
      "cell_type": "code",
      "source": [
        "print(\"F1 Score With the Best Configuration\")\n",
        "print(\"Train F1 Score: \" + str(f1score_train_op_f1))\n",
        "print(\"Test F1 Score: \" + str(f1score_test_op_f1))"
      ],
      "metadata": {
        "id": "UNZoR0fmMnK7",
        "colab": {
          "base_uri": "https://localhost:8080/"
        },
        "outputId": "bb506657-2b03-4619-dd6b-08ccff1d1fa4"
      },
      "execution_count": null,
      "outputs": [
        {
          "output_type": "stream",
          "name": "stdout",
          "text": [
            "F1 Score With the Best Configuration\n",
            "Train F1 Score: 0.9775659001682557\n",
            "Test F1 Score: 0.8448275862068966\n"
          ]
        }
      ]
    },
    {
      "cell_type": "markdown",
      "source": [
        "**END**"
      ],
      "metadata": {
        "id": "rCBOKi6TM8Od"
      }
    }
  ],
  "metadata": {
    "colab": {
      "provenance": []
    },
    "kernelspec": {
      "display_name": "Python 3",
      "name": "python3"
    },
    "language_info": {
      "name": "python"
    }
  },
  "nbformat": 4,
  "nbformat_minor": 0
}